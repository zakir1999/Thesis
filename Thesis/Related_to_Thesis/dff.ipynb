{
 "cells": [
  {
   "cell_type": "code",
   "execution_count": 13,
   "id": "b051910b",
   "metadata": {},
   "outputs": [
    {
     "name": "stdout",
     "output_type": "stream",
     "text": [
      "\n"
     ]
    }
   ],
   "source": [
    "import re\n",
    "\n",
    "code = \"<javascript><node.js><npm><javascript><npm><linode> <node.js><npm><node.js><npm><vite>\"\n",
    "\n",
    "pattern = r\"(?<=<)([^<]+)(?=:)\" \n",
    "\n",
    "lines = code.splitlines()\n",
    "\n",
    "values = []\n",
    "for line in lines:\n",
    "    matches = re.findall(pattern, line)\n",
    "    values.extend(matches)\n",
    "\n",
    "\n",
    "print(*values, sep=\"\\n\")"
   ]
  },
  {
   "cell_type": "code",
   "execution_count": 18,
   "id": "052f7541",
   "metadata": {},
   "outputs": [
    {
     "name": "stdout",
     "output_type": "stream",
     "text": [
      "['javascript', 'node.js', 'npm', 'javascript', 'npm', 'linode', 'node.js', 'npm', 'node.js', 'npm', 'vite']\n"
     ]
    }
   ],
   "source": [
    "import re\n",
    "\n",
    "# Given string\n",
    "code = \"<javascript><node.js><npm><javascript><npm><linode> <node.js><npm><node.js><npm><vite>\"\n",
    "\n",
    "\n",
    "pattern = r\"(?<=<)([^>]+)(?=>)\"\n",
    "\n",
    "\n",
    "matches = re.findall(pattern, code)\n",
    "\n",
    "print(matches)"
   ]
  },
  {
   "cell_type": "code",
   "execution_count": null,
   "id": "e3e83bdd",
   "metadata": {},
   "outputs": [],
   "source": []
  }
 ],
 "metadata": {
  "kernelspec": {
   "display_name": "Python 3 (ipykernel)",
   "language": "python",
   "name": "python3"
  },
  "language_info": {
   "codemirror_mode": {
    "name": "ipython",
    "version": 3
   },
   "file_extension": ".py",
   "mimetype": "text/x-python",
   "name": "python",
   "nbconvert_exporter": "python",
   "pygments_lexer": "ipython3",
   "version": "3.11.5"
  }
 },
 "nbformat": 4,
 "nbformat_minor": 5
}
