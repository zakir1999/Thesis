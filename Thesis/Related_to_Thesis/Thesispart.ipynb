{
 "cells": [
  {
   "cell_type": "code",
   "execution_count": 4,
   "id": "4df2832a",
   "metadata": {},
   "outputs": [
    {
     "name": "stderr",
     "output_type": "stream",
     "text": [
      "ERROR: Could not install packages due to an OSError: [WinError 5] Access is denied: 'C:\\\\Users\\\\mzaki\\\\anaconda3\\\\Lib\\\\site-packages\\\\pandas.libs\\\\msvcp140-ef6047a69b174ada5cb2eff1d2bc9a62.dll'\n",
      "Consider using the `--user` option or check the permissions.\n",
      "\n"
     ]
    }
   ],
   "source": [
    "!pip install pandas --upgrade --quiet"
   ]
  },
  {
   "cell_type": "code",
   "execution_count": 9,
   "id": "3033675a",
   "metadata": {},
   "outputs": [],
   "source": [
    "# import pandas as pd\n",
    "# import re\n",
    "\n",
    "\n",
    "\n",
    "# # Load the data into a pandas DataFrame\n",
    "# df = pd.read_csv('npm_Questions_withStackTraceClassification.csv',encoding_errors='replace')\n",
    "\n",
    "# # Function to split the tags and return them as a list\n",
    "# def split_tags(tags):\n",
    "#     return re.findall(r'(?<=<)([^>]+)(?=>)', tags)\n",
    "\n",
    "# # Apply the function to the QTags column and create a new column with the split tags\n",
    "# df['QTags_Split'] = df['QTags'].apply(split_tags)\n",
    "\n",
    "# # # Print the DataFrame to verify\n",
    "# # print(df[['QTags', 'QTags_Split']])\n",
    "\n",
    "# # # Optionally, expand the tags into separate columns\n",
    "# # tags_expanded = df['QTags_Split'].apply(pd.Series)\n",
    "# # tags_expanded.columns = [f'Tag_{i+1}' for i in tags_expanded.columns]\n",
    "\n",
    "# # # Combine the original DataFrame with the new tags columns\n",
    "# # df_expanded = pd.concat([df, tags_expanded], axis=1)\n",
    "\n",
    "# # # Print the expanded DataFrame to verify\n",
    "# # print(df_expanded)"
   ]
  },
  {
   "cell_type": "code",
   "execution_count": 1,
   "id": "ea982699",
   "metadata": {},
   "outputs": [
    {
     "name": "stdout",
     "output_type": "stream",
     "text": [
      "Error: 'strip()' is not for floats.\n"
     ]
    }
   ],
   "source": [
    "my_variable = 3.14  # This is a float\n",
    "if type(my_variable) == str:\n",
    "    # Proceed with strip() if it's a string\n",
    "    cleaned_text = my_variable.strip()\n",
    "else:\n",
    "    print(\"Error: 'strip()' is not for floats.\")"
   ]
  },
  {
   "cell_type": "code",
   "execution_count": null,
   "id": "60193c45",
   "metadata": {},
   "outputs": [],
   "source": [
    "# import re\n",
    "\n",
    "# code = \"\"\"<javascript><node.js><npm>            \n",
    "# <javascript><macos><node.js><npm>\n",
    "#                         <node.js><npm>\n",
    "#              <javascript><node.js><module><npm><linode>\n",
    "#                                       <node.js><npm>\n",
    "#                                ...                        \n",
    "#                   <node.js><typescript><npm><pnpm>\n",
    "#                    <php><laravel><npm><vite><cpanel>\n",
    "#          <javascript><reactjs><node.js><npm><vite>\"\"\"\n",
    "\n",
    "# # Regular expression to match technology keywords and separate values\n",
    "# pattern = r\"(?<=<)([^<]+)(?=:)\"  # Lookbehind and lookahead for better separation\n",
    "\n",
    "# # Split the code into lines\n",
    "# lines = code.splitlines()\n",
    "\n",
    "# # Extract values from each line\n",
    "# values = []\n",
    "# for line in lines:\n",
    "#     matches = re.findall(pattern, line)\n",
    "#     values.extend(matches)\n",
    "\n",
    "# # Print the extracted values\n",
    "# print(*values, sep=\"\\n\")"
   ]
  },
  {
   "cell_type": "code",
   "execution_count": null,
   "id": "b87ca105",
   "metadata": {},
   "outputs": [],
   "source": [
    "# import re\n",
    "\n",
    "\n",
    "# code = <javascript><node.js><npm>\n",
    "\n",
    "\n",
    "# pattern = (?<=<)([^>]+)(?=>)\n",
    "\n",
    "\n",
    "# matches = re.findall(pattern, code)\n",
    "\n",
    "# print(matches"
   ]
  },
  {
   "cell_type": "code",
   "execution_count": null,
   "id": "d9b2e231",
   "metadata": {},
   "outputs": [],
   "source": [
    "\n",
    "\n",
    "# # Function to split the tags and return them as a list\n",
    "# def split_tags(tags):\n",
    "#     return re.findall(r'(?<=<)([^>]+)(?=>)', tags)\n",
    "\n",
    "\n",
    "# npm_error['QTags_Split'] = npm_error['QTags'].apply(split_tags)\n",
    "\n",
    "# # Print the DataFrame to verify\n",
    "# print(npm_error[['QTags', 'QTags_Split']])"
   ]
  },
  {
   "cell_type": "code",
   "execution_count": null,
   "id": "c50f3564",
   "metadata": {},
   "outputs": [],
   "source": [
    "# npm_error['QTags']= npm_error['QTags'].toString().split(\">\");\n",
    "# npm_error.drop('Express',inplace=True,axis=1)\n",
    "# npm_error.loc[npm_error[\"QTags\"]==\"<express>\",\"Express\"]=\"yes\"\n",
    "# npm_error.loc[npm_error[\"QTags\"]!=\"<express>\",\"Express\"]=\"NO\"\n",
    "\n",
    "# npm_error=npm_error.drop('HasPreferable_Tags',axis=1"
   ]
  },
  {
   "cell_type": "code",
   "execution_count": 8,
   "id": "1244bc8e",
   "metadata": {},
   "outputs": [
    {
     "name": "stdout",
     "output_type": "stream",
     "text": [
      "0\n"
     ]
    }
   ],
   "source": [
    "import pandas as pd\n",
    "data = {'col1': [True, False, True, True, False],\n",
    "        'col2': [True, True, False, False, True]}\n",
    "\n",
    "# Create DataFrame\n",
    "df = pd.DataFrame(data)\n",
    "\n",
    "def count_matches(df):\n",
    "  \"\"\"\n",
    "  This function counts the number of times boolean values in two columns match in a DataFrame.\n",
    "\n",
    "  Args:\n",
    "      df (pandas.DataFrame): The DataFrame containing the boolean columns to compare.\n",
    "\n",
    "  Returns:\n",
    "      int: The total count of matches where boolean values are the same in both columns.\n",
    "  \"\"\"\n",
    "  # Filter for boolean columns\n",
    "  df_filtered = df.select_dtypes(include=[bool])\n",
    "  # Count the number of True values where both columns are equal\n",
    "  return (df_filtered == df_filtered.shift(axis=1)).all(axis=1).sum()\n",
    "\n",
    "# Apply the function and print the result\n",
    "result = count_matches(df.copy())\n",
    "print(result)"
   ]
  },
  {
   "cell_type": "code",
   "execution_count": 10,
   "id": "09adbab4",
   "metadata": {},
   "outputs": [
    {
     "name": "stdout",
     "output_type": "stream",
     "text": [
      "49942\n"
     ]
    }
   ],
   "source": [
    "import pandas as pd\n",
    "import numpy as np\n",
    "\n",
    "def count_matches(df):\n",
    "  \"\"\"\n",
    "  This function efficiently counts rows where boolean values in two columns match in a large DataFrame.\n",
    "\n",
    "  Args:\n",
    "      df (pandas.DataFrame): The DataFrame containing the boolean columns to compare.\n",
    "\n",
    "  Returns:\n",
    "      int: The total count of rows where boolean values are the same in both columns.\n",
    "  \"\"\"\n",
    "  # Vectorized comparison for efficiency\n",
    "  return (df.iloc[:, 0] == df.iloc[:, 1]).sum()\n",
    "\n",
    "# Sample data (replace with your actual data loading)\n",
    "data = {'col1': np.random.randint(0, 2, 100000),  # Large dataset (100,000 rows)\n",
    "        'col2': np.random.randint(0, 2, 100000)}\n",
    "df = pd.DataFrame(data)\n",
    "\n",
    "# Apply the function and print the result\n",
    "result = count_matches(df.copy())\n",
    "print(result)"
   ]
  },
  {
   "cell_type": "code",
   "execution_count": null,
   "id": "c574e50a",
   "metadata": {},
   "outputs": [],
   "source": []
  }
 ],
 "metadata": {
  "kernelspec": {
   "display_name": "Python 3 (ipykernel)",
   "language": "python",
   "name": "python3"
  },
  "language_info": {
   "codemirror_mode": {
    "name": "ipython",
    "version": 3
   },
   "file_extension": ".py",
   "mimetype": "text/x-python",
   "name": "python",
   "nbconvert_exporter": "python",
   "pygments_lexer": "ipython3",
   "version": "3.11.5"
  }
 },
 "nbformat": 4,
 "nbformat_minor": 5
}
